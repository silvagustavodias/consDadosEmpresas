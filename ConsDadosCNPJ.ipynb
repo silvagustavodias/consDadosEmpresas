{
 "cells": [
  {
   "cell_type": "code",
   "execution_count": 7,
   "id": "c48f54ae",
   "metadata": {},
   "outputs": [
    {
     "name": "stderr",
     "output_type": "stream",
     "text": [
      "\n",
      "\n",
      "====== WebDriver manager ======\n",
      "Current google-chrome version is 101.0.4951\n",
      "Get LATEST chromedriver version for 101.0.4951 google-chrome\n",
      "Trying to download new driver from https://chromedriver.storage.googleapis.com/101.0.4951.41/chromedriver_win32.zip\n",
      "Driver has been saved in cache [C:\\Users\\silva\\.wdm\\drivers\\chromedriver\\win32\\101.0.4951.41]\n"
     ]
    }
   ],
   "source": [
    "#Importando WebDriver, Service, ChromeDrive Manager e BY. Inicia o programa atualizando o WEBDRIVER\n",
    "from selenium import webdriver\n",
    "from selenium.webdriver.chrome.service import Service\n",
    "from webdriver_manager.chrome import ChromeDriverManager\n",
    "from selenium.webdriver.common.by import By\n",
    "\n",
    "\n",
    "servico = Service(ChromeDriverManager().install())\n"
   ]
  },
  {
   "cell_type": "code",
   "execution_count": 16,
   "id": "7486e86c",
   "metadata": {},
   "outputs": [],
   "source": [
    "cnpj = \"59.291.534/0001-67\"\n",
    "\n",
    "#Limpando CNPJ transformar em função depois\n",
    "cnpj = cnpj.replace(\".\", \"\")\n",
    "cnpj = cnpj.replace(\"/\", \"\" )\n",
    "cnpj = cnpj.replace(\"-\", \"\")\n",
    "\n",
    "\n",
    "driver = webdriver.Chrome(service=servico)\n",
    "driver.get(fr'https://cnpj.info/{cnpj}')"
   ]
  }
 ],
 "metadata": {
  "kernelspec": {
   "display_name": "Python 3 (ipykernel)",
   "language": "python",
   "name": "python3"
  },
  "language_info": {
   "codemirror_mode": {
    "name": "ipython",
    "version": 3
   },
   "file_extension": ".py",
   "mimetype": "text/x-python",
   "name": "python",
   "nbconvert_exporter": "python",
   "pygments_lexer": "ipython3",
   "version": "3.9.7"
  }
 },
 "nbformat": 4,
 "nbformat_minor": 5
}
