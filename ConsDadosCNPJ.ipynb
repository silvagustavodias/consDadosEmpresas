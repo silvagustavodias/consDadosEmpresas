{
 "cells": [
  {
   "cell_type": "code",
   "execution_count": 69,
   "id": "c48f54ae",
   "metadata": {},
   "outputs": [
    {
     "name": "stderr",
     "output_type": "stream",
     "text": [
      "\n",
      "\n",
      "====== WebDriver manager ======\n",
      "Current google-chrome version is 101.0.4951\n",
      "Get LATEST chromedriver version for 101.0.4951 google-chrome\n",
      "Driver [C:\\Users\\silva\\.wdm\\drivers\\chromedriver\\win32\\101.0.4951.41\\chromedriver.exe] found in cache\n"
     ]
    }
   ],
   "source": [
    "#Importando WebDriver, Service, ChromeDrive Manager e BY. Inicia o programa atualizando o WEBDRIVER\n",
    "from selenium import webdriver\n",
    "from selenium.webdriver.chrome.service import Service\n",
    "from webdriver_manager.chrome import ChromeDriverManager\n",
    "from selenium.webdriver.common.by import By\n",
    "from urllib.request import urlopen\n",
    "import urllib.request as urllib_request\n",
    "from urllib.request import Request\n",
    "from urllib.error import URLError, HTTPError\n",
    "\n",
    "servico = Service(ChromeDriverManager().install())\n"
   ]
  },
  {
   "cell_type": "code",
   "execution_count": 70,
   "id": "7486e86c",
   "metadata": {},
   "outputs": [],
   "source": [
    "cnpj = \"01.220.638/0001-09\"\n",
    "\n",
    "#Limpando CNPJ transformar em função depois\n",
    "cnpj_limpo = cnpj.replace(\".\", \"\")\n",
    "cnpj_limpo = cnpj_limpo.replace(\"/\", \"\" )\n",
    "cnpj_limpo = cnpj_limpo.replace(\"-\", \"\")\n"
   ]
  },
  {
   "cell_type": "code",
   "execution_count": 71,
   "id": "a5024fec",
   "metadata": {},
   "outputs": [],
   "source": [
    "#Entrar no site do cnpj\n",
    "\n",
    "driver = webdriver.Chrome(service=servico)\n",
    "driver.get(f'http://cnpj.info/{cnpj_limpo}')\n"
   ]
  },
  {
   "cell_type": "code",
   "execution_count": 72,
   "id": "e9a91c49",
   "metadata": {},
   "outputs": [
    {
     "name": "stdout",
     "output_type": "stream",
     "text": [
      "[('01.220.638/0001-09', 'WS DISTRIBUIDORA DE ALIMENTOS LTDA', 'Rua Capitao Felix, 110 Pavmto2 Loja 11 Rua 1 Bloco d BENFICA RIO DE JANEIRO - RJ 20920-310', '(21) 2667-2555', 'societario@novacont.net')]\n"
     ]
    },
    {
     "data": {
      "text/plain": [
       "<bound method ChromiumDriver.quit of <selenium.webdriver.chrome.webdriver.WebDriver (session=\"8f7425edc8993dc134265ceeb095221d\")>>"
      ]
     },
     "execution_count": 72,
     "metadata": {},
     "output_type": "execute_result"
    }
   ],
   "source": [
    "#Raspar os dados do site\n",
    "razaoSocial = driver.find_element(By.XPATH, '//*[@id=\"content\"]/table/tbody/tr[2]/td[2]/a').text\n",
    "endereco = driver.find_element(By.ID, 'content').text\n",
    "endereco_inicio = endereco.find('Endereço')+len('Endereço')\n",
    "endereco_final = endereco.find('Contatos')\n",
    "endereco = (endereco[endereco_inicio:endereco_final])\n",
    "endereco = endereco.strip('\\n')\n",
    "endereco = endereco.replace(\"\\n\", \" \")\n",
    "telefone = driver.find_element(By.XPATH, '//*[@id=\"content\"]/li[1]/a').text\n",
    "email = driver.find_element(By.XPATH, '//*[@id=\"content\"]/li[3]/a[1]').text\n",
    "\n",
    "\n",
    "#Criar tuplas para as variáveis\n",
    "lista_empresas = [(cnpj, razaoSocial, endereco, telefone, email)]\n",
    "print(lista_empresas)\n",
    "driver.quit"
   ]
  },
  {
   "cell_type": "code",
   "execution_count": null,
   "id": "e3aa91d8",
   "metadata": {},
   "outputs": [],
   "source": []
  },
  {
   "cell_type": "code",
   "execution_count": 73,
   "id": "a097c33b",
   "metadata": {},
   "outputs": [],
   "source": [
    "#col"
   ]
  }
 ],
 "metadata": {
  "kernelspec": {
   "display_name": "Python 3 (ipykernel)",
   "language": "python",
   "name": "python3"
  },
  "language_info": {
   "codemirror_mode": {
    "name": "ipython",
    "version": 3
   },
   "file_extension": ".py",
   "mimetype": "text/x-python",
   "name": "python",
   "nbconvert_exporter": "python",
   "pygments_lexer": "ipython3",
   "version": "3.9.7"
  }
 },
 "nbformat": 4,
 "nbformat_minor": 5
}
